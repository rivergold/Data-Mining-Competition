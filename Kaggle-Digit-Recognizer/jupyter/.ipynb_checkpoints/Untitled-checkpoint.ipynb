{
 "cells": [
  {
   "cell_type": "code",
   "execution_count": 1,
   "metadata": {
    "collapsed": false
   },
   "outputs": [],
   "source": [
    "class test(object):\n",
    "    def __init__(self):\n",
    "        self.a = 1\n",
    "    def add_attribute(self):\n",
    "        self.b = 2"
   ]
  },
  {
   "cell_type": "code",
   "execution_count": 2,
   "metadata": {
    "collapsed": true
   },
   "outputs": [],
   "source": [
    "data = test()"
   ]
  },
  {
   "cell_type": "code",
   "execution_count": 3,
   "metadata": {
    "collapsed": false
   },
   "outputs": [
    {
     "data": {
      "text/plain": [
       "1"
      ]
     },
     "execution_count": 3,
     "metadata": {},
     "output_type": "execute_result"
    }
   ],
   "source": [
    "data.a"
   ]
  },
  {
   "cell_type": "code",
   "execution_count": 4,
   "metadata": {
    "collapsed": false
   },
   "outputs": [],
   "source": [
    "data.add_attribute()"
   ]
  },
  {
   "cell_type": "code",
   "execution_count": 5,
   "metadata": {
    "collapsed": false
   },
   "outputs": [
    {
     "data": {
      "text/plain": [
       "2"
      ]
     },
     "execution_count": 5,
     "metadata": {},
     "output_type": "execute_result"
    }
   ],
   "source": [
    "data.b"
   ]
  },
  {
   "cell_type": "code",
   "execution_count": 6,
   "metadata": {
    "collapsed": true
   },
   "outputs": [],
   "source": [
    "import pickle"
   ]
  },
  {
   "cell_type": "code",
   "execution_count": 7,
   "metadata": {
    "collapsed": true
   },
   "outputs": [],
   "source": [
    "file_name = '../dataset/train.pkl'"
   ]
  },
  {
   "cell_type": "code",
   "execution_count": 8,
   "metadata": {
    "collapsed": false
   },
   "outputs": [
    {
     "name": "stdout",
     "output_type": "stream",
     "text": [
      "{'data': array([[[[0, 0, 0, ..., 0, 0, 0],\n",
      "         [0, 0, 0, ..., 0, 0, 0],\n",
      "         [0, 0, 0, ..., 0, 0, 0],\n",
      "         ..., \n",
      "         [0, 0, 0, ..., 0, 0, 0],\n",
      "         [0, 0, 0, ..., 0, 0, 0],\n",
      "         [0, 0, 0, ..., 0, 0, 0]]],\n",
      "\n",
      "\n",
      "       [[[0, 0, 0, ..., 0, 0, 0],\n",
      "         [0, 0, 0, ..., 0, 0, 0],\n",
      "         [0, 0, 0, ..., 0, 0, 0],\n",
      "         ..., \n",
      "         [0, 0, 0, ..., 0, 0, 0],\n",
      "         [0, 0, 0, ..., 0, 0, 0],\n",
      "         [0, 0, 0, ..., 0, 0, 0]]],\n",
      "\n",
      "\n",
      "       [[[0, 0, 0, ..., 0, 0, 0],\n",
      "         [0, 0, 0, ..., 0, 0, 0],\n",
      "         [0, 0, 0, ..., 0, 0, 0],\n",
      "         ..., \n",
      "         [0, 0, 0, ..., 0, 0, 0],\n",
      "         [0, 0, 0, ..., 0, 0, 0],\n",
      "         [0, 0, 0, ..., 0, 0, 0]]],\n",
      "\n",
      "\n",
      "       ..., \n",
      "       [[[0, 0, 0, ..., 0, 0, 0],\n",
      "         [0, 0, 0, ..., 0, 0, 0],\n",
      "         [0, 0, 0, ..., 0, 0, 0],\n",
      "         ..., \n",
      "         [0, 0, 0, ..., 0, 0, 0],\n",
      "         [0, 0, 0, ..., 0, 0, 0],\n",
      "         [0, 0, 0, ..., 0, 0, 0]]],\n",
      "\n",
      "\n",
      "       [[[0, 0, 0, ..., 0, 0, 0],\n",
      "         [0, 0, 0, ..., 0, 0, 0],\n",
      "         [0, 0, 0, ..., 0, 0, 0],\n",
      "         ..., \n",
      "         [0, 0, 0, ..., 0, 0, 0],\n",
      "         [0, 0, 0, ..., 0, 0, 0],\n",
      "         [0, 0, 0, ..., 0, 0, 0]]],\n",
      "\n",
      "\n",
      "       [[[0, 0, 0, ..., 0, 0, 0],\n",
      "         [0, 0, 0, ..., 0, 0, 0],\n",
      "         [0, 0, 0, ..., 0, 0, 0],\n",
      "         ..., \n",
      "         [0, 0, 0, ..., 0, 0, 0],\n",
      "         [0, 0, 0, ..., 0, 0, 0],\n",
      "         [0, 0, 0, ..., 0, 0, 0]]]], dtype=int64), 'label': array([1, 0, 1, ..., 7, 6, 9], dtype=int64)}\n"
     ]
    }
   ],
   "source": [
    "with open(file_name, 'rb') as file:\n",
    "    data = pickle.load(file)\n",
    "print(data)"
   ]
  },
  {
   "cell_type": "code",
   "execution_count": 9,
   "metadata": {
    "collapsed": false
   },
   "outputs": [
    {
     "data": {
      "text/plain": [
       "(1, 28, 28)"
      ]
     },
     "execution_count": 9,
     "metadata": {},
     "output_type": "execute_result"
    }
   ],
   "source": [
    "data['data'][0].shape"
   ]
  },
  {
   "cell_type": "code",
   "execution_count": 10,
   "metadata": {
    "collapsed": true
   },
   "outputs": [],
   "source": [
    "import yaml"
   ]
  },
  {
   "cell_type": "code",
   "execution_count": 11,
   "metadata": {
    "collapsed": true
   },
   "outputs": [],
   "source": [
    "with open('../src/config.yaml') as file:\n",
    "    config = yaml.load(file)"
   ]
  },
  {
   "cell_type": "code",
   "execution_count": 12,
   "metadata": {
    "collapsed": false
   },
   "outputs": [
    {
     "data": {
      "text/plain": [
       "{'base': {'dataset_path': '../dataset/',\n",
       "  'label_names': ['0', '1', '2', '3', '4', '5', '6', '7', '8', '9'],\n",
       "  'model_type': 'cnn_model',\n",
       "  'y_do_one_hot_encode': True},\n",
       " 'cnn_model': {'batch_size': 64,\n",
       "  'load_trained_model': True,\n",
       "  'n_class': 10,\n",
       "  'n_epoch': 2,\n",
       "  'random_seed': 123456,\n",
       "  'save_trained_model': True,\n",
       "  'save_trained_model_path': '../trained-model/CIFAR-10-Trained-model.h5',\n",
       "  'shuffle_train_data': True,\n",
       "  'trained_model_path': '../trained-model/CIFAR-10-Trained-model.h5'}}"
      ]
     },
     "execution_count": 12,
     "metadata": {},
     "output_type": "execute_result"
    }
   ],
   "source": [
    "config"
   ]
  },
  {
   "cell_type": "code",
   "execution_count": 13,
   "metadata": {
    "collapsed": false
   },
   "outputs": [
    {
     "data": {
      "text/plain": [
       "{'dataset_path': '../dataset/',\n",
       " 'label_names': ['0', '1', '2', '3', '4', '5', '6', '7', '8', '9'],\n",
       " 'model_type': 'cnn_model',\n",
       " 'y_do_one_hot_encode': True}"
      ]
     },
     "execution_count": 13,
     "metadata": {},
     "output_type": "execute_result"
    }
   ],
   "source": [
    "config['base']"
   ]
  },
  {
   "cell_type": "code",
   "execution_count": 14,
   "metadata": {
    "collapsed": true
   },
   "outputs": [],
   "source": [
    "import numpy as np\n",
    "import cv2\n",
    "import pandas as pd"
   ]
  },
  {
   "cell_type": "code",
   "execution_count": 15,
   "metadata": {
    "collapsed": true
   },
   "outputs": [],
   "source": [
    "with open('../dataset/train.csv') as file:\n",
    "    data = pd.read_csv(file)"
   ]
  },
  {
   "cell_type": "code",
   "execution_count": 31,
   "metadata": {
    "collapsed": false
   },
   "outputs": [],
   "source": [
    "temp = data.ix[0, 1:].values.reshape(28, 28)"
   ]
  },
  {
   "cell_type": "code",
   "execution_count": 30,
   "metadata": {
    "collapsed": false
   },
   "outputs": [
    {
     "data": {
      "text/plain": [
       "-1"
      ]
     },
     "execution_count": 30,
     "metadata": {},
     "output_type": "execute_result"
    }
   ],
   "source": [
    "cv2.imshow('test', temp)\n",
    "cv2.waitKey(100)"
   ]
  },
  {
   "cell_type": "code",
   "execution_count": 28,
   "metadata": {
    "collapsed": false
   },
   "outputs": [
    {
     "ename": "error",
     "evalue": "D:\\Build\\OpenCV\\opencv-3.1.0\\modules\\imgproc\\src\\color.cpp:7456: error: (-215) scn == 3 || scn == 4 in function cv::ipp_cvtColor\n",
     "output_type": "error",
     "traceback": [
      "\u001b[0;31m---------------------------------------------------------------------------\u001b[0m",
      "\u001b[0;31merror\u001b[0m                                     Traceback (most recent call last)",
      "\u001b[0;32m<ipython-input-28-290aff8d4796>\u001b[0m in \u001b[0;36m<module>\u001b[0;34m()\u001b[0m\n\u001b[0;32m----> 1\u001b[0;31m \u001b[0mgray_image\u001b[0m \u001b[1;33m=\u001b[0m \u001b[0mcv2\u001b[0m\u001b[1;33m.\u001b[0m\u001b[0mcvtColor\u001b[0m\u001b[1;33m(\u001b[0m\u001b[0mtemp\u001b[0m\u001b[1;33m,\u001b[0m \u001b[0mcv2\u001b[0m\u001b[1;33m.\u001b[0m\u001b[0mCOLOR_BGR2GRAY\u001b[0m\u001b[1;33m)\u001b[0m\u001b[1;33m\u001b[0m\u001b[0m\n\u001b[0m",
      "\u001b[0;31merror\u001b[0m: D:\\Build\\OpenCV\\opencv-3.1.0\\modules\\imgproc\\src\\color.cpp:7456: error: (-215) scn == 3 || scn == 4 in function cv::ipp_cvtColor\n"
     ]
    }
   ],
   "source": [
    "gray_image = cv2.cvtColor(temp, cv2.COLOR_BGR2GRAY)"
   ]
  },
  {
   "cell_type": "code",
   "execution_count": 33,
   "metadata": {
    "collapsed": false
   },
   "outputs": [
    {
     "data": {
      "text/plain": [
       "dtype('int64')"
      ]
     },
     "execution_count": 33,
     "metadata": {},
     "output_type": "execute_result"
    }
   ],
   "source": [
    "temp.dtype"
   ]
  },
  {
   "cell_type": "code",
   "execution_count": null,
   "metadata": {
    "collapsed": true
   },
   "outputs": [],
   "source": []
  }
 ],
 "metadata": {
  "kernelspec": {
   "display_name": "Python 3",
   "language": "python",
   "name": "python3"
  },
  "language_info": {
   "codemirror_mode": {
    "name": "ipython",
    "version": 3
   },
   "file_extension": ".py",
   "mimetype": "text/x-python",
   "name": "python",
   "nbconvert_exporter": "python",
   "pygments_lexer": "ipython3",
   "version": "3.5.2"
  }
 },
 "nbformat": 4,
 "nbformat_minor": 2
}
